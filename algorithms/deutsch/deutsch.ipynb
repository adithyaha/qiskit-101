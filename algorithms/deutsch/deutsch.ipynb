{
 "cells": [
  {
   "cell_type": "markdown",
   "metadata": {},
   "source": [
    "# **Deutsch Algorithm - Quantum Advantage in One Qubit**\n",
    "## 📌 Problem Statement  \n",
    "The Deutsch Algorithm demonstrates how quantum computing can solve certain problems faster than classical computing.  \n",
    "\n",
    "We have a hidden function **f(x): {0,1} → {0,1}**. The function is either:  \n",
    "- **Constant:** `f(0) = f(1)` (same for both inputs).  \n",
    "- **Balanced:** `f(0) ≠ f(1)` (different for each input).  \n",
    "\n",
    "A classical computer would require **two evaluations** to determine whether `f(x)` is constant or balanced. **Deutsch’s algorithm does it in just one.**  \n"
   ]
  },
  {
   "cell_type": "code",
   "execution_count": 6,
   "metadata": {},
   "outputs": [],
   "source": [
    "from qiskit import QuantumCircuit, transpile\n",
    "from qiskit_aer import AerSimulator"
   ]
  },
  {
   "cell_type": "code",
   "execution_count": 7,
   "metadata": {},
   "outputs": [],
   "source": [
    "def deutsch_oracle(qc, qubit_x, qubit_y, case):\n",
    "    if case == 0:\n",
    "        # Constant function: f(0) = f(1) = 0 OR f(0) = f(1) = 1\n",
    "        pass\n",
    "    else:\n",
    "        # Balanced function: f(0) = x OR f(0) = x ⊕ 1\n",
    "        qc.cx(qubit_x, qubit_y)  # Implements f(x) = x"
   ]
  },
  {
   "cell_type": "code",
   "execution_count": 8,
   "metadata": {},
   "outputs": [],
   "source": [
    "def deutsch_algorithm(case):\n",
    "    qc = QuantumCircuit(2, 1)\n",
    "\n",
    "    # Step 1: Initialize the second qubit to |1>\n",
    "    qc.x(1)\n",
    "\n",
    "    # Step 2: Apply Hadamard gate to both qubits\n",
    "    qc.h([0, 1])\n",
    "\n",
    "    # Step 3: Apply the oracle\n",
    "    deutsch_oracle(qc, 0, 1, case)\n",
    "\n",
    "    # Step 4: Apply Hadamard gate to the first qubit\n",
    "    qc.h(0)\n",
    "\n",
    "    # Step 5: Measure the first qubit (qubit_x)\n",
    "    qc.measure(0, 0)\n",
    "\n",
    "    return qc"
   ]
  },
  {
   "cell_type": "code",
   "execution_count": 9,
   "metadata": {},
   "outputs": [
    {
     "name": "stdout",
     "output_type": "stream",
     "text": [
      "Test case: Constant | Measured: Constant | ✅ Correct\n",
      "Test case: Balanced | Measured: Balanced | ✅ Correct\n",
      "Test case: Constant | Measured: Constant | ✅ Correct\n",
      "Test case: Balanced | Measured: Balanced | ✅ Correct\n",
      "Test case: Constant | Measured: Constant | ✅ Correct\n",
      "Test case: Balanced | Measured: Balanced | ✅ Correct\n",
      "Test case: Constant | Measured: Constant | ✅ Correct\n",
      "Test case: Balanced | Measured: Balanced | ✅ Correct\n",
      "Test case: Constant | Measured: Constant | ✅ Correct\n",
      "Test case: Balanced | Measured: Balanced | ✅ Correct\n",
      "\n",
      "Deutsch Algorithm Accuracy: 100.00% over 10 tests.\n"
     ]
    }
   ],
   "source": [
    "# Simulate multiple runs and verifysimulator = AerSimulator()\n",
    "simulator = AerSimulator()\n",
    "\n",
    "num_tests = 10\n",
    "correct_count = 0\n",
    "\n",
    "for _ in range(num_tests):\n",
    "    actual_case = 0 if _ % 2 == 0 else 1  # Alternate between constant and balanced for predictability\n",
    "    qc = deutsch_algorithm(actual_case)\n",
    "    qc_t = transpile(qc, simulator)\n",
    "    result = simulator.run(qc_t).result()\n",
    "    counts = result.get_counts()\n",
    "    \n",
    "    # Since we run each circuit once, there's only one possible outcome\n",
    "    measured_result = list(counts.keys())[0]\n",
    "\n",
    "    if (measured_result == '0' and actual_case == 0) or (measured_result == '1' and actual_case == 1):\n",
    "        correct_count += 1\n",
    "\n",
    "    print(f\"Test case: {'Constant' if actual_case == 0 else 'Balanced'} | Measured: {'Constant' if measured_result == '0' else 'Balanced'} | {'✅ Correct' if measured_result == str(actual_case) else '❌ Incorrect'}\")\n",
    "\n",
    "# Final summary\n",
    "accuracy = (correct_count / num_tests) * 100\n",
    "print(f\"\\nDeutsch Algorithm Accuracy: {accuracy:.2f}% over {num_tests} tests.\")"
   ]
  },
  {
   "cell_type": "code",
   "execution_count": null,
   "metadata": {},
   "outputs": [],
   "source": []
  }
 ],
 "metadata": {
  "kernelspec": {
   "display_name": "Python 3",
   "language": "python",
   "name": "python3"
  },
  "language_info": {
   "codemirror_mode": {
    "name": "ipython",
    "version": 3
   },
   "file_extension": ".py",
   "mimetype": "text/x-python",
   "name": "python",
   "nbconvert_exporter": "python",
   "pygments_lexer": "ipython3",
   "version": "3.11.7"
  }
 },
 "nbformat": 4,
 "nbformat_minor": 2
}
